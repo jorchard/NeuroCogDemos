{
 "cells": [
  {
   "cell_type": "code",
   "execution_count": 1,
   "metadata": {},
   "outputs": [],
   "source": [
    "# !pip install torch pandas seaborn gym -q"
   ]
  },
  {
   "cell_type": "code",
   "execution_count": 36,
   "metadata": {},
   "outputs": [],
   "source": [
    "import torch\n",
    "import gym\n",
    "import numpy as np\n",
    "from collections import deque\n",
    "import random\n",
    "import copy\n",
    "import seaborn as sns\n",
    "import pandas as pd"
   ]
  },
  {
   "cell_type": "code",
   "execution_count": 37,
   "metadata": {},
   "outputs": [],
   "source": [
    "env = gym.make(\"CartPole-v0\")\n",
    "s_t = env.reset()\n",
    "for t in range(1000):\n",
    "    a_t = env.action_space.sample()\n",
    "    s_t, r_t, d_t, info = env.step(a_t)\n",
    "    if d_t:\n",
    "        s_t = env.reset()"
   ]
  },
  {
   "cell_type": "code",
   "execution_count": 38,
   "metadata": {},
   "outputs": [],
   "source": [
    "class ReplayBuffer:\n",
    "    def __init__(self, size=1000000):\n",
    "        self.memory = deque(maxlen=size)\n",
    "        \n",
    "    def remember(self, s_t, a_t, r_t, s_t_next, d_t):\n",
    "        self.memory.append((s_t, a_t, r_t, s_t_next, d_t))\n",
    "        \n",
    "    def sample(self, num=32):\n",
    "        num = min(num, len(self.memory))\n",
    "        return random.sample(self.memory, num)"
   ]
  },
  {
   "cell_type": "code",
   "execution_count": 39,
   "metadata": {},
   "outputs": [],
   "source": [
    "class VectorizedEnvWrapper(gym.Wrapper):\n",
    "    def __init__(self, make_env, num_envs=1):\n",
    "        super().__init__(make_env())\n",
    "        self.num_envs = num_envs\n",
    "        self.envs = [make_env() for env_index in range(num_envs)]\n",
    "    \n",
    "    def reset(self):\n",
    "        return np.asarray([env.reset() for env in self.envs])\n",
    "    \n",
    "    def step(self, actions):\n",
    "        next_states, rewards, dones = [], [], []\n",
    "        for env, action in zip(self.envs, actions):\n",
    "            next_state, reward, done, _ = env.step(action)\n",
    "            if done:\n",
    "                next_states.append(env.reset())\n",
    "            else:\n",
    "                next_states.append(next_state)\n",
    "            rewards.append(reward)\n",
    "            dones.append(done)\n",
    "        return np.asarray(next_states), np.asarray(rewards), \\\n",
    "            np.asarray(dones)"
   ]
  },
  {
   "cell_type": "code",
   "execution_count": 40,
   "metadata": {},
   "outputs": [],
   "source": [
    "def plot(data, window=100):\n",
    "    sns.lineplot(\n",
    "        data=data.rolling(window=window).mean()[window-1::window]\n",
    "    )"
   ]
  },
  {
   "cell_type": "code",
   "execution_count": 41,
   "metadata": {},
   "outputs": [],
   "source": [
    "def train(env_name, T=20000, num_envs=32, batch_size=32, n_theta=100, alpha=0.001, gamma=0.95):\n",
    "    env = VectorizedEnvWrapper(lambda: gym.make(env_name), num_envs)\n",
    "    state_shape = env.observation_space.shape\n",
    "    num_actions = env.action_space.n\n",
    "    agent = Agent(state_shape, num_actions, num_envs, alpha=alpha, gamma=gamma)\n",
    "    rewards = []\n",
    "    buffer = ReplayBuffer()\n",
    "    episode_rewards = 0\n",
    "    s_t = env.reset()\n",
    "    for t in range(T):\n",
    "        if t%n_theta == 0:\n",
    "            agent.synchronize()\n",
    "        \n",
    "        a_t = agent.act(s_t)\n",
    "        s_t_next, r_t, d_t = env.step(a_t)\n",
    "        buffer.remember(s_t, a_t, r_t, s_t_next, d_t)\n",
    "        s_t = s_t_next\n",
    "        for batch in buffer.sample(batch_size):\n",
    "            agent.update(*batch)\n",
    "        agent.decay_epsilon(t/T)\n",
    "        episode_rewards += r_t\n",
    "\n",
    "        for i in range(env.num_envs):\n",
    "            if d_t[i]:\n",
    "                rewards.append(episode_rewards[i])\n",
    "                episode_rewards[i] = 0\n",
    "            \n",
    "    plot(pd.DataFrame(rewards), window=10)\n",
    "    return agent"
   ]
  },
  {
   "cell_type": "code",
   "execution_count": 45,
   "metadata": {},
   "outputs": [],
   "source": [
    "class Agent:\n",
    "    def __init__(self, state_shape, num_actions, num_envs, alpha=0.001, gamma=0.95, epsilon_i=1.0, epsilon_f=0.00, n_epsilon=0.1):\n",
    "        self.epsilon_i = epsilon_i\n",
    "        self.epsilon_f = epsilon_f\n",
    "        self.n_epsilon = n_epsilon\n",
    "        self.epsilon = epsilon_i\n",
    "        self.gamma = gamma\n",
    "\n",
    "        self.num_actions = num_actions\n",
    "        self.num_envs = num_envs\n",
    "\n",
    "        self.Q = torch.nn.Sequential(\n",
    "            torch.nn.Linear(*state_shape, 24),\n",
    "            torch.nn.ReLU(),\n",
    "            torch.nn.Linear(24, 24),\n",
    "            torch.nn.ReLU(),\n",
    "            torch.nn.Linear(24, num_actions)\n",
    "        ).double()\n",
    "        \n",
    "        self.Q_ = copy.deepcopy(self.Q)\n",
    "        \n",
    "        self.optimizer = torch.optim.Adam(self.Q.parameters(), lr=alpha)\n",
    "    \n",
    "    def synchronize(self):\n",
    "        self.Q_.load_state_dict(self.Q.state_dict())\n",
    "\n",
    "    def act(self, s_t):\n",
    "        s_t = torch.as_tensor(s_t).double()\n",
    "        if np.random.rand() < self.epsilon:\n",
    "            return np.random.randint(self.num_actions, size=self.num_envs)\n",
    "        else:\n",
    "            with torch.no_grad():\n",
    "                return np.argmax(self.Q(s_t).numpy(), axis=1)\n",
    "    \n",
    "    def decay_epsilon(self, n):\n",
    "        self.epsilon = max(\n",
    "            self.epsilon_f, \n",
    "            self.epsilon_i - (n/self.n_epsilon)*(self.epsilon_i - self.epsilon_f))\n",
    "\n",
    "    def update(self, s_t, a_t, r_t, s_t_next, d_t):\n",
    "        s_t = torch.as_tensor(s_t).double()\n",
    "        a_t = torch.as_tensor(a_t).long()\n",
    "        r_t = torch.as_tensor(r_t).double()\n",
    "        s_t_next = torch.as_tensor(s_t_next).double()\n",
    "        d_t = torch.as_tensor(d_t).double()\n",
    "        \n",
    "        with torch.no_grad():\n",
    "            Q_next = torch.max(self.Q_(s_t_next), dim=1)[0]\n",
    "            target = r_t + (1-d_t)*self.gamma*Q_next\n",
    "        \n",
    "        Q_pred = self.Q(s_t)[range(self.num_envs), a_t] #(128, \n",
    "        \n",
    "        loss = torch.mean(0.5*(target - Q_pred)**2)\n",
    "        \n",
    "        self.optimizer.zero_grad()\n",
    "        loss.backward()\n",
    "        self.optimizer.step()"
   ]
  },
  {
   "cell_type": "code",
   "execution_count": 46,
   "metadata": {},
   "outputs": [
    {
     "data": {
      "image/png": "[encoded data removed]",
      "text/plain": [
       "<Figure size 432x288 with 1 Axes>"
      ]
     },
     "metadata": {
      "needs_background": "light"
     },
     "output_type": "display_data"
    }
   ],
   "source": [
    "agent = train(\"CartPole-v0\", T=20000, num_envs=32, batch_size=1, alpha=0.001)"
   ]
  }
 ],
 "metadata": {
  "kernelspec": {
   "display_name": "Python 3",
   "language": "python",
   "name": "python3"
  },
  "language_info": {
   "codemirror_mode": {
    "name": "ipython",
    "version": 3
   },
   "file_extension": ".py",
   "mimetype": "text/x-python",
   "name": "python",
   "nbconvert_exporter": "python",
   "pygments_lexer": "ipython3",
   "version": "3.6.10"
  }
 },
 "nbformat": 4,
 "nbformat_minor": 4
}
